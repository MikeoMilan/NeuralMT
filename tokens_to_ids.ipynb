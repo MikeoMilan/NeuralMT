{
 "cells": [
  {
   "cell_type": "code",
   "execution_count": 2,
   "id": "76558b80",
   "metadata": {},
   "outputs": [],
   "source": [
    "import transformers\n",
    "from tqdm import tqdm\n",
    "import torch\n",
    "import torch.nn as nn\n",
    "\n",
    "zh_tokenizer = transformers.AutoTokenizer.from_pretrained(\"hfl/chinese-xlnet-base\")\n",
    "en_tokenizer = transformers.AutoTokenizer.from_pretrained(\"xlnet-base-cased\")"
   ]
  },
  {
   "cell_type": "code",
   "execution_count": 2,
   "id": "fcd420cb",
   "metadata": {},
   "outputs": [
    {
     "data": {
      "text/plain": [
       "(5, 5)"
      ]
     },
     "execution_count": 2,
     "metadata": {},
     "output_type": "execute_result"
    }
   ],
   "source": [
    "zh_tokenizer.convert_tokens_to_ids(\"<pad>\"), en_tokenizer.convert_tokens_to_ids(\"<pad>\")"
   ]
  },
  {
   "cell_type": "code",
   "execution_count": 254,
   "id": "f4c7e07d",
   "metadata": {},
   "outputs": [
    {
     "name": "stderr",
     "output_type": "stream",
     "text": [
      "100%|██████████████████████████████████████████████████████████████████████████████████████████████████| 320713/320713 [00:33<00:00, 9532.98it/s]\n",
      "100%|█████████████████████████████████████████████████████████████████████████████████████████████████| 320713/320713 [00:25<00:00, 12750.63it/s]\n"
     ]
    }
   ],
   "source": [
    "with open(\"./data/raw.en\") as en, open(\"./data/tokens.en\", \"w\") as en_tokens:\n",
    "    data = en.readlines()\n",
    "    for l in tqdm(range(len(data))):\n",
    "        token_ids = en_tokenizer.encode(data[l],add_special_tokens=False)\n",
    "        token_ids = [3] + token_ids + [4]\n",
    "        #token_ids = [str(token_ids[i])+\" \" for i in range(len(token_ids))]\n",
    "        tokens = en_tokenizer.convert_ids_to_tokens(token_ids)\n",
    "        for token in tokens:\n",
    "            en_tokens.write(token)\n",
    "            en_tokens.write(\" \")\n",
    "        en_tokens.write(\"\\n\")\n",
    "\n",
    "with open(\"./data/raw.zh\") as zh, open(\"./data/tokens.zh\", \"w\") as zh_tokens:\n",
    "    data = zh.readlines()\n",
    "    for l in tqdm(range(len(data))):\n",
    "        token_ids = zh_tokenizer.encode(data[l],add_special_tokens=False)\n",
    "        token_ids = [3] + token_ids + [4]\n",
    "        #token_ids = [str(token_ids[i])+\" \" for i in range(len(token_ids))]\n",
    "        tokens = zh_tokenizer.convert_ids_to_tokens(token_ids)\n",
    "        for token in tokens:\n",
    "            zh_tokens.write(token)\n",
    "            zh_tokens.write(\" \")\n",
    "        zh_tokens.write(\"\\n\")"
   ]
  },
  {
   "cell_type": "code",
   "execution_count": 291,
   "id": "a4523b67",
   "metadata": {},
   "outputs": [],
   "source": [
    "en_len = []\n",
    "with open(\"./data/clean.en\") as en:\n",
    "    data = en.readlines()\n",
    "    for l in range(len(data)):\n",
    "        temp = data[l].split(\" \")\n",
    "        en_len.append(len(temp))\n",
    "        \n",
    "zh_len = []\n",
    "with open(\"./data/clean.zh\") as zh:\n",
    "    data = zh.readlines()\n",
    "    for l in range(len(data)):\n",
    "        temp = data[l].split(\" \")\n",
    "        zh_len.append(len(temp))"
   ]
  },
  {
   "cell_type": "code",
   "execution_count": 297,
   "id": "94b70e7c",
   "metadata": {},
   "outputs": [
    {
     "data": {
      "text/plain": [
       "(128, 128)"
      ]
     },
     "execution_count": 297,
     "metadata": {},
     "output_type": "execute_result"
    }
   ],
   "source": [
    "max(en_len), max(zh_len)"
   ]
  },
  {
   "cell_type": "code",
   "execution_count": 295,
   "id": "1e1f8567",
   "metadata": {
    "scrolled": false
   },
   "outputs": [
    {
     "data": {
      "image/png": "[encoded data removed]",
      "text/plain": [
       "<Figure size 640x480 with 1 Axes>"
      ]
     },
     "metadata": {},
     "output_type": "display_data"
    },
    {
     "data": {
      "image/png": "[encoded data removed]",
      "text/plain": [
       "<Figure size 640x480 with 1 Axes>"
      ]
     },
     "metadata": {},
     "output_type": "display_data"
    }
   ],
   "source": [
    "from matplotlib import pyplot\n",
    "\n",
    "def drawHist(heights):\n",
    "    pyplot.hist(heights, 25)\n",
    "    pyplot.show()\n",
    "\n",
    "drawHist(zh_len)\n",
    "drawHist(en_len)"
   ]
  },
  {
   "cell_type": "code",
   "execution_count": 3,
   "id": "3bbaf67f",
   "metadata": {},
   "outputs": [
    {
     "name": "stderr",
     "output_type": "stream",
     "text": [
      "100%|█████████████████████████████████████████████████████████████████████████████████████████████████| 311054/311054 [00:07<00:00, 44330.49it/s]\n",
      "100%|█████████████████████████████████████████████████████████████████████████████████████████████████| 311054/311054 [00:06<00:00, 44680.69it/s]\n"
     ]
    }
   ],
   "source": [
    "with open(\"./data/clean.en\") as tokens, open(\"./data/ids.en\", \"w\") as ids:\n",
    "    data = tokens.readlines()\n",
    "    for l in tqdm(range(len(data))):\n",
    "        words = data[l][:-1].split(\" \")\n",
    "        idx = [en_tokenizer.convert_tokens_to_ids(words[i]) for i in range(len(words))]\n",
    "        for token_id in idx:\n",
    "            ids.write(str(token_id))\n",
    "            ids.write(\" \")\n",
    "        ids.write(\"\\n\")\n",
    "\n",
    "with open(\"./data/clean.zh\") as tokens, open(\"./data/ids.zh\", \"w\") as ids:\n",
    "    data = tokens.readlines()\n",
    "    for l in tqdm(range(len(data))):\n",
    "        words = data[l][:-1].split(\" \")\n",
    "        idx = [zh_tokenizer.convert_tokens_to_ids(words[i]) for i in range(len(words))]\n",
    "        for token_id in idx:\n",
    "            ids.write(str(token_id))\n",
    "            ids.write(\" \")\n",
    "        ids.write(\"\\n\")"
   ]
  },
  {
   "cell_type": "code",
   "execution_count": 4,
   "id": "3717cf8b",
   "metadata": {},
   "outputs": [],
   "source": [
    "class EntityDataset:\n",
    "    def __init__(self, src, trg):\n",
    "        self.src = src\n",
    "        self.trg = trg\n",
    "        self.MAX_LEN = 128\n",
    "    \n",
    "    def __len__(self):\n",
    "        return len(self.src)\n",
    "    \n",
    "    def __getitem__(self, item):\n",
    "        src = self.src[item]\n",
    "        trg = self.trg[item]\n",
    "\n",
    "        mask = [1] * len(src)\n",
    "\n",
    "        src_padding_len = self.MAX_LEN - len(src)\n",
    "        trg_padding_len = self.MAX_LEN - len(trg)\n",
    "\n",
    "        src = src + ([5] * src_padding_len) \n",
    "        trg = trg + ([5] * trg_padding_len)\n",
    "\n",
    "        return {\n",
    "            \"src\": torch.tensor(src, dtype=torch.long),\n",
    "            \"trg\": torch.tensor(trg, dtype=torch.long),\n",
    "        }"
   ]
  },
  {
   "cell_type": "code",
   "execution_count": 19,
   "id": "231a4fc0",
   "metadata": {},
   "outputs": [],
   "source": [
    "def get_data_loader(en_path, zh_path):\n",
    "    src_ids = []\n",
    "    trg_ids = []\n",
    "\n",
    "    with open(en_path) as src:\n",
    "        data = src.readlines()\n",
    "        for ids in tqdm(data):\n",
    "            ids_list = ids.split(\" \")[:-1]\n",
    "            ids_list = [int(ids_list[i]) for i in range(len(ids_list))]\n",
    "            src_ids.append(ids_list)\n",
    "\n",
    "    with open(zh_path) as src:\n",
    "        data = src.readlines()\n",
    "        for ids in tqdm(data):\n",
    "            ids_list = ids.split(\" \")[:-1]\n",
    "            ids_list = [int(ids_list[i]) for i in range(len(ids_list))]\n",
    "            trg_ids.append(ids_list)\n",
    "    return src_ids, trg_ids"
   ]
  },
  {
   "cell_type": "code",
   "execution_count": null,
   "id": "917f4f8b",
   "metadata": {},
   "outputs": [],
   "source": [
    "class Transformer(nn.Module):\n",
    "    def __init__(self, \n",
    "                 embedding_size,\n",
    "                 src_vocab_size,\n",
    "                 trg_vocab_size,\n",
    "                 src_pad_idx,\n",
    "                 num_heads,\n",
    "                 num_encoder_layers,\n",
    "                 num_decoder_layers,\n",
    "                 forward_expansion,\n",
    "                 dropout,\n",
    "                 max_len,\n",
    "                 device,\n",
    "                ):\n",
    "        super(Transformer, self).__init__()\n",
    "        self.src_word_embedding = nn.Embedding(src_vocab_size, embedding_size)\n",
    "        self.src_position_embedding = nn.Embedding(max_len, embedding_size)\n",
    "        self.trg_word_embedding = nn.Embedding(trg_vocab_size, embedding_size)\n",
    "        self.trg_position_embedding = nn.Embedding(max_len, embedding_size)\n",
    "        self.device = device\n",
    "        self.transformer = nn.Transformer(\n",
    "            embedding_size,\n",
    "            num_heads,\n",
    "            num_encoder_layers,\n",
    "            num_decoder_layers,\n",
    "            forward_expansion,\n",
    "            dropout,\n",
    "        )\n",
    "        \n",
    "        self.fc_out = nn.Linear(embedding_size, trg_vocab_size)\n",
    "        self.dropout = nn.Dropout(dropout)\n",
    "        self.src_pad_idx = src_pad_idx\n",
    "    \n",
    "    def make_src_mask(self, src):\n",
    "        src_mask = src.transpose(0,1) == self.src_pad_idx\n",
    "        return src_mask\n",
    "    \n",
    "    def forward(self, src, trg):\n",
    "        src_seq_length, N = src.shape\n",
    "        trg_seq_length, N = trg.shape\n",
    "        \n",
    "        src_positions = (\n",
    "            torch.arange(0, src_seq_length).unsqueeze(1).expand(src_seq_length, N)\n",
    "            .to(self.device)\n",
    "        )\n",
    "        \n",
    "        trg_positions = (\n",
    "            torch.arange(0, trg_seq_length).unsqueeze(1).expand(trg_seq_length, N)\n",
    "            .to(self.device)\n",
    "        )\n",
    "        \n",
    "        embed_src = self.dropout(\n",
    "            (self.src_word_embedding(src) + self.src_position_embedding(src_positions))\n",
    "        )\n",
    "        \n",
    "        embed_trg = self.dropout(\n",
    "            (self.trg_word_embedding(trg) + self.trg_position_embedding(trg_positions))\n",
    "        )\n",
    "        \n",
    "        src_padding_mask = self.make_src_mask(src)\n",
    "        trg_mask = self.transformer.generate_square_subsequent_mask(trg_seq_length).to(self.device)\n",
    "        \n",
    "        out = self.transformer(\n",
    "            embed_src,\n",
    "            embed_trg,\n",
    "            src_key_padding_mask = src_padding_mask,\n",
    "            tgt_mask = trg_mask)\n",
    "        \n",
    "        out = self.fc_out(out)\n",
    "        \n",
    "        return out"
   ]
  },
  {
   "cell_type": "code",
   "execution_count": 21,
   "id": "843ef9f8",
   "metadata": {
    "collapsed": true
   },
   "outputs": [
    {
     "name": "stderr",
     "output_type": "stream",
     "text": [
      "100%|████████████████████████████████████████████████████████████████████████████████████████████████| 279916/279916 [00:02<00:00, 137389.25it/s]\n",
      "100%|████████████████████████████████████████████████████████████████████████████████████████████████| 279916/279916 [00:01<00:00, 154347.43it/s]\n",
      "100%|██████████████████████████████████████████████████████████████████████████████████████████████████| 15512/15512 [00:00<00:00, 190522.89it/s]\n",
      "100%|██████████████████████████████████████████████████████████████████████████████████████████████████| 15512/15512 [00:00<00:00, 179019.26it/s]\n",
      "100%|██████████████████████████████████████████████████████████████████████████████████████████████████| 15626/15626 [00:00<00:00, 191251.58it/s]\n",
      "100%|██████████████████████████████████████████████████████████████████████████████████████████████████| 15626/15626 [00:00<00:00, 189238.21it/s]\n"
     ]
    }
   ],
   "source": [
    "train_en, train_zh = get_data_loader(\"./data/split/train.en\", \"./data/split/train.zh\")\n",
    "valid_en, valid_zh = get_data_loader(\"./data/split/valid.en\", \"./data/split/valid.zh\")\n",
    "test_en, test_zh = get_data_loader(\"./data/split/test.en\", \"./data/split/test.zh\")"
   ]
  },
  {
   "cell_type": "code",
   "execution_count": 27,
   "id": "3f146aa5",
   "metadata": {},
   "outputs": [],
   "source": [
    "Batch_size = 64\n",
    "\n",
    "train_dataset = EntityDataset(train_en, test_zh)\n",
    "train_data_loader = torch.utils.data.DataLoader(train_dataset, batch_size=Batch_size)\n",
    "\n",
    "valid_dataset = EntityDataset(valid_en, test_zh)\n",
    "valid_data_loader = torch.utils.data.DataLoader(valid_dataset, batch_size=Batch_size)\n",
    "\n",
    "test_dataset = EntityDataset(test_en, test_zh)\n",
    "test_data_loader = torch.utils.data.DataLoader(test_dataset, batch_size=Batch_size)"
   ]
  },
  {
   "cell_type": "code",
   "execution_count": 5,
   "id": "a103feb8",
   "metadata": {},
   "outputs": [],
   "source": [
    "train_losses, valid_losses, lr_s = [],[],[]\n",
    "with open(\"/Users/lihongji/Desktop/neuralMT/adam_rec.txt\") as adam_rec:\n",
    "    data = adam_rec.readlines()\n",
    "    for i in range(len(data)):\n",
    "        #print(data[i].split(\" | \")[0:2])\n",
    "        train_loss = float(data[i].split(\" | \")[0][12:-1])\n",
    "        valid_loss = float(data[i].split(\" | \")[1][12:-1])\n",
    "        lr = float(data[i].split(\" | \")[2][15:-1])\n",
    "        train_losses.append(train_loss)\n",
    "        valid_losses.append(valid_loss)\n",
    "        lr_s.append(lr)\n",
    "\n",
    "with open(\"/Users/lihongji/Desktop/neuralMT/sgd_rec.txt\") as sgd_rec:\n",
    "    data = sgd_rec.readlines()\n",
    "    for i in range(len(data)):\n",
    "        #print(data[i].split(\" | \")[0:2])\n",
    "        train_loss = float(data[i].split(\" | \")[0][12:-1])\n",
    "        valid_loss = float(data[i].split(\" | \")[1][12:-1])\n",
    "        lr = float(data[i].split(\" | \")[2][15:-1])\n",
    "        train_losses.append(train_loss)\n",
    "        valid_losses.append(valid_loss)\n",
    "        lr_s.append(lr)"
   ]
  },
  {
   "cell_type": "code",
   "execution_count": 6,
   "id": "4ff2e34e",
   "metadata": {},
   "outputs": [
    {
     "data": {
      "image/png": "[encoded data removed]",
      "text/plain": [
       "<Figure size 640x480 with 1 Axes>"
      ]
     },
     "metadata": {},
     "output_type": "display_data"
    }
   ],
   "source": [
    "import matplotlib.pyplot as plt\n",
    "x = [i for i in range(len(train_losses))]\n",
    "plt.plot(x, train_losses)\n",
    "plt.plot(x, valid_losses)\n",
    "plt.show()"
   ]
  },
  {
   "cell_type": "code",
   "execution_count": null,
   "id": "c2c0fca8",
   "metadata": {},
   "outputs": [],
   "source": []
  },
  {
   "cell_type": "code",
   "execution_count": 24,
   "id": "5fbbf4fd",
   "metadata": {},
   "outputs": [],
   "source": [
    "with open(\"/Users/lihongji/Desktop/neuralMT/data/split/test.zh\") as zh, open(\"sgd_mt.txt\", \"w\") as sgd_mt:\n",
    "    data = zh.readlines()\n",
    "    for i in range(len(data)):\n",
    "        sentence = data[i].split(\" \")[1:-2]\n",
    "        sentence = [int(sentence[i]) for i in range(len(sentence))]\n",
    "        output = zh_tokenizer.decode(sentence)\n",
    "        sgd_mt.write(output)\n",
    "        sgd_mt.write(\"\\n\")"
   ]
  }
 ],
 "metadata": {
  "kernelspec": {
   "display_name": "Python 3 (ipykernel)",
   "language": "python",
   "name": "python3"
  },
  "language_info": {
   "codemirror_mode": {
    "name": "ipython",
    "version": 3
   },
   "file_extension": ".py",
   "mimetype": "text/x-python",
   "name": "python",
   "nbconvert_exporter": "python",
   "pygments_lexer": "ipython3",
   "version": "3.9.13"
  },
  "vscode": {
   "interpreter": {
    "hash": "31f2aee4e71d21fbe5cf8b01ff0e069b9275f58929596ceb00d14d90e3e16cd6"
   }
  }
 },
 "nbformat": 4,
 "nbformat_minor": 5
}
